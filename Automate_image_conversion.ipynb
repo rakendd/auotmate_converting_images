{
 "cells": [
  {
   "cell_type": "markdown",
   "metadata": {},
   "source": [
    "At times when making latex report, I have to convert umpteen number of images from png to ps format\n",
    "There is easy command for conversion in linux from Imagemagick, you just need to type"
   ]
  },
  {
   "cell_type": "code",
   "execution_count": null,
   "metadata": {
    "collapsed": true
   },
   "outputs": [],
   "source": [
    "convert file_name.type file_name.new_type"
   ]
  },
  {
   "cell_type": "markdown",
   "metadata": {},
   "source": [
    "But when need to convert many files, can use this small script that comes handy "
   ]
  },
  {
   "cell_type": "markdown",
   "metadata": {},
   "source": [
    "Import sysem from os module for using operating system dependent functionality."
   ]
  },
  {
   "cell_type": "code",
   "execution_count": null,
   "metadata": {
    "collapsed": true
   },
   "outputs": [],
   "source": [
    "import os\n",
    "os.system(linux command)"
   ]
  },
  {
   "cell_type": "markdown",
   "metadata": {},
   "source": [
    "Or another way is: <br>\n",
    "In jupyter you can use all linux commands by using exclamatory mark before the command"
   ]
  },
  {
   "cell_type": "code",
   "execution_count": null,
   "metadata": {
    "collapsed": true
   },
   "outputs": [],
   "source": [
    "!convert file_name.type file_name.new_type"
   ]
  },
  {
   "cell_type": "markdown",
   "metadata": {},
   "source": [
    "\n",
    "Keep all the images need to be converted in one directory, this directory can contain other file types also, but we are going to check for file type and convert only them"
   ]
  },
  {
   "cell_type": "code",
   "execution_count": 1,
   "metadata": {
    "collapsed": true
   },
   "outputs": [],
   "source": [
    "import os"
   ]
  },
  {
   "cell_type": "code",
   "execution_count": 2,
   "metadata": {
    "collapsed": true
   },
   "outputs": [],
   "source": [
    "file_path = 'images_to_convert/'"
   ]
  },
  {
   "cell_type": "code",
   "execution_count": 6,
   "metadata": {
    "collapsed": true
   },
   "outputs": [],
   "source": [
    "fnames = os.listdir(file_path)"
   ]
  },
  {
   "cell_type": "markdown",
   "metadata": {},
   "source": [
    "Now fnames is a list of all the file names(images) in that directory"
   ]
  },
  {
   "cell_type": "markdown",
   "metadata": {},
   "source": [
    "File types of images you want to convert"
   ]
  },
  {
   "cell_type": "code",
   "execution_count": 7,
   "metadata": {
    "collapsed": true
   },
   "outputs": [],
   "source": [
    "old_file_type = '.png'\n",
    "new_file_type = '.ps'"
   ]
  },
  {
   "cell_type": "markdown",
   "metadata": {},
   "source": [
    "Below loop reads all the files, converts them to ps and removes the older files"
   ]
  },
  {
   "cell_type": "code",
   "execution_count": 8,
   "metadata": {
    "collapsed": true,
    "scrolled": true
   },
   "outputs": [],
   "source": [
    "for image in fnames:\n",
    "    if image[-len(old_file_type):] == old_file_type:   #checking for only file type we want to change\n",
    "        \n",
    "        os.system('convert '+file_path+image+' '+  file_path+image.replace(old_file_type, '')+new_file_type)\n",
    "        os.system('rm '+file_path+image)  #This deletes all the png files"
   ]
  },
  {
   "cell_type": "markdown",
   "metadata": {},
   "source": [
    "Below cells are for styling, you can happily ignore them"
   ]
  },
  {
   "cell_type": "code",
   "execution_count": 17,
   "metadata": {},
   "outputs": [
    {
     "data": {
      "text/html": [
       "<style>.container { width:100% !important; }</style>"
      ],
      "text/plain": [
       "<IPython.core.display.HTML object>"
      ]
     },
     "metadata": {},
     "output_type": "display_data"
    }
   ],
   "source": [
    "from IPython.core.display import display, HTML\n",
    "display(HTML(\"<style>.container { width:100% !important; }</style>\"))"
   ]
  },
  {
   "cell_type": "code",
   "execution_count": null,
   "metadata": {
    "collapsed": true
   },
   "outputs": [],
   "source": []
  }
 ],
 "metadata": {
  "kernelspec": {
   "display_name": "Python 3",
   "language": "python",
   "name": "python3"
  },
  "language_info": {
   "codemirror_mode": {
    "name": "ipython",
    "version": 3
   },
   "file_extension": ".py",
   "mimetype": "text/x-python",
   "name": "python",
   "nbconvert_exporter": "python",
   "pygments_lexer": "ipython3",
   "version": "3.6.3"
  }
 },
 "nbformat": 4,
 "nbformat_minor": 2
}
