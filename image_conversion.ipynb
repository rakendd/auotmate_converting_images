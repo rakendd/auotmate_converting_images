{
 "cells": [
  {
   "cell_type": "code",
   "execution_count": 5,
   "metadata": {},
   "outputs": [
    {
     "name": "stdout",
     "output_type": "stream",
     "text": [
      "image_conversion.ipynb  \u001b[0m\u001b[01;34mUntitled Folder\u001b[0m/\r\n"
     ]
    }
   ],
   "source": [
    "ls"
   ]
  },
  {
   "cell_type": "code",
   "execution_count": 6,
   "metadata": {},
   "outputs": [
    {
     "name": "stdout",
     "output_type": "stream",
     "text": [
      "/home/rakend/Work/automate_convert_images/Untitled Folder\n"
     ]
    }
   ],
   "source": [
    "cd Untitled\\ Folder"
   ]
  },
  {
   "cell_type": "code",
   "execution_count": 14,
   "metadata": {
    "scrolled": true
   },
   "outputs": [
    {
     "name": "stdout",
     "output_type": "stream",
     "text": [
      "\u001b[0m\u001b[01;35mk10a90_1.png\u001b[0m             \u001b[01;35mk10a90_320_frontsideview.png\u001b[0m  \u001b[01;35mk10a90_3.png\u001b[0m\r\n",
      "\u001b[01;35mk10a90_2.png\u001b[0m             \u001b[01;35mk10a90_350_3inletside.png\u001b[0m     \u001b[01;35mk10a90_4.png\u001b[0m\r\n",
      "\u001b[01;35mk10a90_320_backside.png\u001b[0m  \u001b[01;35mk10a90_350_dischargeside.png\u001b[0m\r\n"
     ]
    }
   ],
   "source": [
    "ls"
   ]
  },
  {
   "cell_type": "code",
   "execution_count": 27,
   "metadata": {
    "collapsed": true
   },
   "outputs": [],
   "source": [
    "import os\n",
    "fnames=os.listdir()"
   ]
  },
  {
   "cell_type": "code",
   "execution_count": 28,
   "metadata": {},
   "outputs": [],
   "source": [
    "for i in range(len(fnames)):\n",
    "    new_name='temp.png'\n",
    "    os.rename(fnames[i], new_name)\n",
    "    os.system('convert temp.png temp.ps')\n",
    "    old_name='temp.ps'\n",
    "    new_name=fnames[i].strip('.png')+'.ps'\n",
    "    os.rename(old_name, new_name)\n",
    "    os.system('rm temp.png')"
   ]
  },
  {
   "cell_type": "code",
   "execution_count": null,
   "metadata": {
    "collapsed": true
   },
   "outputs": [],
   "source": []
  }
 ],
 "metadata": {
  "kernelspec": {
   "display_name": "Python 3",
   "language": "python",
   "name": "python3"
  },
  "language_info": {
   "codemirror_mode": {
    "name": "ipython",
    "version": 3
   },
   "file_extension": ".py",
   "mimetype": "text/x-python",
   "name": "python",
   "nbconvert_exporter": "python",
   "pygments_lexer": "ipython3",
   "version": "3.6.3"
  }
 },
 "nbformat": 4,
 "nbformat_minor": 2
}
